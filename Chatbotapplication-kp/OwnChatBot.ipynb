{
 "cells": [
  {
   "cell_type": "markdown",
   "id": "c8571a30",
   "metadata": {},
   "source": [
    "# Installed Packages\n",
    "# Tokenizer"
   ]
  },
  {
   "cell_type": "code",
   "execution_count": 1,
   "id": "4214a9dc",
   "metadata": {},
   "outputs": [],
   "source": [
    "# Here i will import all the libraries \n",
    "import numpy as np\n",
    "import pandas as pd\n",
    "import nltk\n",
    "import tensorflow as tf\n",
    "import json\n",
    "import matplotlib.pyplot as plt\n",
    "%matplotlib inline"
   ]
  },
  {
   "cell_type": "code",
   "execution_count": 7,
   "id": "8e1b4f4c",
   "metadata": {},
   "outputs": [
    {
     "name": "stdout",
     "output_type": "stream",
     "text": [
      "Collecting Tokenizer\n",
      "  Downloading tokenizer-3.4.3-py2.py3-none-any.whl (112 kB)\n",
      "     ------------------------------------ 112.3/112.3 kB 385.1 kB/s eta 0:00:00\n",
      "Installing collected packages: Tokenizer\n",
      "Successfully installed Tokenizer-3.4.3\n"
     ]
    }
   ],
   "source": [
    "!pip install Tokenizer"
   ]
  },
  {
   "cell_type": "code",
   "execution_count": 2,
   "id": "f8ed41b9",
   "metadata": {},
   "outputs": [],
   "source": [
    "from tensorflow.keras.preprocessing.text import Tokenizer"
   ]
  },
  {
   "cell_type": "code",
   "execution_count": 3,
   "id": "289782af",
   "metadata": {},
   "outputs": [],
   "source": [
    "from tensorflow.keras.layers import Input,Embedding,LSTM,Dense,GlobalMaxPooling1D,Flatten"
   ]
  },
  {
   "cell_type": "code",
   "execution_count": 4,
   "id": "17aab6d5",
   "metadata": {},
   "outputs": [],
   "source": [
    "from tensorflow.keras.models import Model"
   ]
  },
  {
   "cell_type": "markdown",
   "id": "247db360",
   "metadata": {},
   "source": [
    "# Above I have imported all the necessary packages"
   ]
  },
  {
   "cell_type": "markdown",
   "id": "c0493a74",
   "metadata": {},
   "source": [
    "## Read the json file"
   ]
  },
  {
   "cell_type": "code",
   "execution_count": 6,
   "id": "29f021ba",
   "metadata": {},
   "outputs": [],
   "source": [
    "with open('./Data/Chatbot.json') as Chatbot:\n",
    "    botdata=json.load(Chatbot)"
   ]
  },
  {
   "cell_type": "markdown",
   "id": "58db9b0f",
   "metadata": {},
   "source": [
    "## All the data converting to the list"
   ]
  },
  {
   "cell_type": "code",
   "execution_count": 7,
   "id": "fef7b0e1",
   "metadata": {},
   "outputs": [],
   "source": [
    "tags=[]\n",
    "inputs=[]\n",
    "response={}\n",
    "\n",
    "for intents in botdata['intents']:\n",
    "    response[intents['tag']]=intents['responses']\n",
    "    for lines in intents['input']:\n",
    "        inputs.append(lines)\n",
    "        tags.append(intents['tag'])\n",
    "            "
   ]
  },
  {
   "cell_type": "markdown",
   "id": "c4aced9c",
   "metadata": {},
   "source": [
    "## here we are converting inputs and tags to dataframe using pandas"
   ]
  },
  {
   "cell_type": "code",
   "execution_count": 8,
   "id": "5dbac267",
   "metadata": {},
   "outputs": [
    {
     "data": {
      "text/html": [
       "<div>\n",
       "<style scoped>\n",
       "    .dataframe tbody tr th:only-of-type {\n",
       "        vertical-align: middle;\n",
       "    }\n",
       "\n",
       "    .dataframe tbody tr th {\n",
       "        vertical-align: top;\n",
       "    }\n",
       "\n",
       "    .dataframe thead th {\n",
       "        text-align: right;\n",
       "    }\n",
       "</style>\n",
       "<table border=\"1\" class=\"dataframe\">\n",
       "  <thead>\n",
       "    <tr style=\"text-align: right;\">\n",
       "      <th></th>\n",
       "      <th>Inputs</th>\n",
       "      <th>tags</th>\n",
       "    </tr>\n",
       "  </thead>\n",
       "  <tbody>\n",
       "    <tr>\n",
       "      <th>0</th>\n",
       "      <td>hello</td>\n",
       "      <td>greeting</td>\n",
       "    </tr>\n",
       "    <tr>\n",
       "      <th>1</th>\n",
       "      <td>hi there</td>\n",
       "      <td>greeting</td>\n",
       "    </tr>\n",
       "    <tr>\n",
       "      <th>2</th>\n",
       "      <td>nice to meet you</td>\n",
       "      <td>greeting</td>\n",
       "    </tr>\n",
       "    <tr>\n",
       "      <th>3</th>\n",
       "      <td>hi, is this is the pirate's organization</td>\n",
       "      <td>greeting</td>\n",
       "    </tr>\n",
       "    <tr>\n",
       "      <th>4</th>\n",
       "      <td>any pirates here ?</td>\n",
       "      <td>greeting</td>\n",
       "    </tr>\n",
       "  </tbody>\n",
       "</table>\n",
       "</div>"
      ],
      "text/plain": [
       "                                     Inputs      tags\n",
       "0                                     hello  greeting\n",
       "1                                  hi there  greeting\n",
       "2                          nice to meet you  greeting\n",
       "3  hi, is this is the pirate's organization  greeting\n",
       "4                        any pirates here ?  greeting"
      ]
     },
     "execution_count": 8,
     "metadata": {},
     "output_type": "execute_result"
    }
   ],
   "source": [
    "data=pd.DataFrame({'Inputs':inputs,'tags':tags})\n",
    "data.head()"
   ]
  },
  {
   "cell_type": "markdown",
   "id": "a3e6dfec",
   "metadata": {},
   "source": [
    "### frac=1 which means the data has  been changed (permanently shuffled) "
   ]
  },
  {
   "cell_type": "code",
   "execution_count": 9,
   "id": "a34b0457",
   "metadata": {},
   "outputs": [],
   "source": [
    "data=data.sample(frac=1)"
   ]
  },
  {
   "cell_type": "markdown",
   "id": "9e86c2d7",
   "metadata": {},
   "source": [
    "## Here we are going to perform some Preprocessing operation like\n",
    "### ** such as like removing the punctuations\n",
    "### ** converting the lowercase letters\n",
    "### ** encoding the textual data to numerical data to done"
   ]
  },
  {
   "cell_type": "markdown",
   "id": "6a28ad41",
   "metadata": {},
   "source": [
    "### What is Preprocessing"
   ]
  },
  {
   "cell_type": "markdown",
   "id": "ceb1a02e",
   "metadata": {},
   "source": [
    "### * ** Text preprocessing is a step in natural language processing (NLP) that involves cleaning and preparing text data for analysis. It is the process of bringing the text into a form that is predictable and analyzable for a specific task, such as extracting keywords or sentiment analysis. Text preprocessing may include tokenization, stemming, lemmatization, stop-word removal, and part-of-speech tagging.\n"
   ]
  },
  {
   "cell_type": "code",
   "execution_count": 10,
   "id": "6ae60aca",
   "metadata": {},
   "outputs": [],
   "source": [
    "import string  # using this lib to perform all string operation\n"
   ]
  },
  {
   "cell_type": "code",
   "execution_count": 11,
   "id": "e382c97e",
   "metadata": {},
   "outputs": [
    {
     "data": {
      "text/html": [
       "<div>\n",
       "<style scoped>\n",
       "    .dataframe tbody tr th:only-of-type {\n",
       "        vertical-align: middle;\n",
       "    }\n",
       "\n",
       "    .dataframe tbody tr th {\n",
       "        vertical-align: top;\n",
       "    }\n",
       "\n",
       "    .dataframe thead th {\n",
       "        text-align: right;\n",
       "    }\n",
       "</style>\n",
       "<table border=\"1\" class=\"dataframe\">\n",
       "  <thead>\n",
       "    <tr style=\"text-align: right;\">\n",
       "      <th></th>\n",
       "      <th>Inputs</th>\n",
       "      <th>tags</th>\n",
       "    </tr>\n",
       "  </thead>\n",
       "  <tbody>\n",
       "    <tr>\n",
       "      <th>52</th>\n",
       "      <td>which place do you live in ?</td>\n",
       "      <td>whereareyou</td>\n",
       "    </tr>\n",
       "    <tr>\n",
       "      <th>55</th>\n",
       "      <td>you are from where</td>\n",
       "      <td>whereareyou</td>\n",
       "    </tr>\n",
       "    <tr>\n",
       "      <th>67</th>\n",
       "      <td>where is the straw hat center located ?</td>\n",
       "      <td>whereisthecenter</td>\n",
       "    </tr>\n",
       "    <tr>\n",
       "      <th>3</th>\n",
       "      <td>hi, is this is the pirate's organization</td>\n",
       "      <td>greeting</td>\n",
       "    </tr>\n",
       "    <tr>\n",
       "      <th>35</th>\n",
       "      <td>how's everything there ?</td>\n",
       "      <td>howami</td>\n",
       "    </tr>\n",
       "    <tr>\n",
       "      <th>...</th>\n",
       "      <td>...</td>\n",
       "      <td>...</td>\n",
       "    </tr>\n",
       "    <tr>\n",
       "      <th>28</th>\n",
       "      <td>bye bro, I'll talk to you later</td>\n",
       "      <td>goodbye</td>\n",
       "    </tr>\n",
       "    <tr>\n",
       "      <th>32</th>\n",
       "      <td>are you fine ?</td>\n",
       "      <td>howami</td>\n",
       "    </tr>\n",
       "    <tr>\n",
       "      <th>63</th>\n",
       "      <td>how to enroll</td>\n",
       "      <td>join</td>\n",
       "    </tr>\n",
       "    <tr>\n",
       "      <th>48</th>\n",
       "      <td>which country are you from ?</td>\n",
       "      <td>whereareyou</td>\n",
       "    </tr>\n",
       "    <tr>\n",
       "      <th>20</th>\n",
       "      <td>okay bye</td>\n",
       "      <td>goodbye</td>\n",
       "    </tr>\n",
       "  </tbody>\n",
       "</table>\n",
       "<p>81 rows × 2 columns</p>\n",
       "</div>"
      ],
      "text/plain": [
       "                                      Inputs              tags\n",
       "52              which place do you live in ?       whereareyou\n",
       "55                        you are from where       whereareyou\n",
       "67   where is the straw hat center located ?  whereisthecenter\n",
       "3   hi, is this is the pirate's organization          greeting\n",
       "35                  how's everything there ?            howami\n",
       "..                                       ...               ...\n",
       "28           bye bro, I'll talk to you later           goodbye\n",
       "32                            are you fine ?            howami\n",
       "63                             how to enroll              join\n",
       "48              which country are you from ?       whereareyou\n",
       "20                                  okay bye           goodbye\n",
       "\n",
       "[81 rows x 2 columns]"
      ]
     },
     "execution_count": 11,
     "metadata": {},
     "output_type": "execute_result"
    }
   ],
   "source": [
    "data"
   ]
  },
  {
   "cell_type": "code",
   "execution_count": 12,
   "id": "cb475f79",
   "metadata": {},
   "outputs": [],
   "source": [
    "# we will perform text preprocessing for inputs column in the data DataFrame\n",
    "data['Inputs']=data['Inputs'].apply(lambda input_data:[ltr.lower() for ltr in input_data if ltr not in string.punctuation])\n",
    "data['Inputs']=data['Inputs'].apply(lambda input_data:''.join(input_data))"
   ]
  },
  {
   "cell_type": "code",
   "execution_count": 13,
   "id": "a61d3049",
   "metadata": {},
   "outputs": [
    {
     "data": {
      "text/html": [
       "<div>\n",
       "<style scoped>\n",
       "    .dataframe tbody tr th:only-of-type {\n",
       "        vertical-align: middle;\n",
       "    }\n",
       "\n",
       "    .dataframe tbody tr th {\n",
       "        vertical-align: top;\n",
       "    }\n",
       "\n",
       "    .dataframe thead th {\n",
       "        text-align: right;\n",
       "    }\n",
       "</style>\n",
       "<table border=\"1\" class=\"dataframe\">\n",
       "  <thead>\n",
       "    <tr style=\"text-align: right;\">\n",
       "      <th></th>\n",
       "      <th>Inputs</th>\n",
       "      <th>tags</th>\n",
       "    </tr>\n",
       "  </thead>\n",
       "  <tbody>\n",
       "    <tr>\n",
       "      <th>52</th>\n",
       "      <td>which place do you live in</td>\n",
       "      <td>whereareyou</td>\n",
       "    </tr>\n",
       "    <tr>\n",
       "      <th>55</th>\n",
       "      <td>you are from where</td>\n",
       "      <td>whereareyou</td>\n",
       "    </tr>\n",
       "    <tr>\n",
       "      <th>67</th>\n",
       "      <td>where is the straw hat center located</td>\n",
       "      <td>whereisthecenter</td>\n",
       "    </tr>\n",
       "    <tr>\n",
       "      <th>3</th>\n",
       "      <td>hi is this is the pirates organization</td>\n",
       "      <td>greeting</td>\n",
       "    </tr>\n",
       "    <tr>\n",
       "      <th>35</th>\n",
       "      <td>hows everything there</td>\n",
       "      <td>howami</td>\n",
       "    </tr>\n",
       "    <tr>\n",
       "      <th>...</th>\n",
       "      <td>...</td>\n",
       "      <td>...</td>\n",
       "    </tr>\n",
       "    <tr>\n",
       "      <th>28</th>\n",
       "      <td>bye bro ill talk to you later</td>\n",
       "      <td>goodbye</td>\n",
       "    </tr>\n",
       "    <tr>\n",
       "      <th>32</th>\n",
       "      <td>are you fine</td>\n",
       "      <td>howami</td>\n",
       "    </tr>\n",
       "    <tr>\n",
       "      <th>63</th>\n",
       "      <td>how to enroll</td>\n",
       "      <td>join</td>\n",
       "    </tr>\n",
       "    <tr>\n",
       "      <th>48</th>\n",
       "      <td>which country are you from</td>\n",
       "      <td>whereareyou</td>\n",
       "    </tr>\n",
       "    <tr>\n",
       "      <th>20</th>\n",
       "      <td>okay bye</td>\n",
       "      <td>goodbye</td>\n",
       "    </tr>\n",
       "  </tbody>\n",
       "</table>\n",
       "<p>81 rows × 2 columns</p>\n",
       "</div>"
      ],
      "text/plain": [
       "                                    Inputs              tags\n",
       "52             which place do you live in        whereareyou\n",
       "55                      you are from where       whereareyou\n",
       "67  where is the straw hat center located   whereisthecenter\n",
       "3   hi is this is the pirates organization          greeting\n",
       "35                  hows everything there             howami\n",
       "..                                     ...               ...\n",
       "28           bye bro ill talk to you later           goodbye\n",
       "32                           are you fine             howami\n",
       "63                           how to enroll              join\n",
       "48             which country are you from        whereareyou\n",
       "20                                okay bye           goodbye\n",
       "\n",
       "[81 rows x 2 columns]"
      ]
     },
     "execution_count": 13,
     "metadata": {},
     "output_type": "execute_result"
    }
   ],
   "source": [
    "data"
   ]
  },
  {
   "cell_type": "markdown",
   "id": "756ba0b1",
   "metadata": {},
   "source": [
    "#### above we removed the all the punctuation"
   ]
  },
  {
   "cell_type": "markdown",
   "id": "5e660f5d",
   "metadata": {},
   "source": [
    "### now we will perform the tokenize"
   ]
  },
  {
   "cell_type": "markdown",
   "id": "d1731f03",
   "metadata": {},
   "source": [
    "## What does Tokenization mean?"
   ]
  },
  {
   "cell_type": "markdown",
   "id": "9b6af5d3",
   "metadata": {},
   "source": [
    "###  Tokenization is a method to segregate a particular text into small chunks or tokens\n",
    "URL: https://machinelearningknowledge.ai/keras-tokenizer-tutorial-with-examples-for-fit_on_texts-texts_to_sequences-texts_to_matrix-sequences_to_matrix/#:~:text=The%20fit_on_texts%20method%20is%20a%20part%20of%20Keras,derive%20more%20information%20by%20using%20the%20following%20attributes-"
   ]
  },
  {
   "cell_type": "markdown",
   "id": "65f26abe",
   "metadata": {},
   "source": [
    "### 1. fit_on_texts\n",
    "#### The fit_on_texts method is a part of Keras tokenizer class which is used to update the internal vocabulary for the texts list. We need to call be before using other methods of texts_to_sequences or texts_to_matrix.\n",
    "#### ** some more function also available word_counts ,word_docs ,word_docs,word_docs "
   ]
  },
  {
   "cell_type": "markdown",
   "id": "6aaf1354",
   "metadata": {},
   "source": [
    "### You could above website if any doubt and learn Tokenization concepts"
   ]
  },
  {
   "cell_type": "code",
   "execution_count": 14,
   "id": "f55fd249",
   "metadata": {},
   "outputs": [],
   "source": [
    "from tensorflow.keras.preprocessing.text import Tokenizer"
   ]
  },
  {
   "cell_type": "code",
   "execution_count": 15,
   "id": "7121aeb7",
   "metadata": {},
   "outputs": [],
   "source": [
    "tokenizer=Tokenizer(num_words=2000)"
   ]
  },
  {
   "cell_type": "code",
   "execution_count": 16,
   "id": "03fd82dd",
   "metadata": {},
   "outputs": [],
   "source": [
    "tokenizer.fit_on_texts(data['Inputs']) # Here we performed fit_on_texts below we can see the results"
   ]
  },
  {
   "cell_type": "code",
   "execution_count": 17,
   "id": "bb34b371",
   "metadata": {},
   "outputs": [
    {
     "data": {
      "text/plain": [
       "OrderedDict([('which', 2),\n",
       "             ('place', 1),\n",
       "             ('do', 8),\n",
       "             ('you', 29),\n",
       "             ('live', 4),\n",
       "             ('in', 2),\n",
       "             ('are', 19),\n",
       "             ('from', 4),\n",
       "             ('where', 10),\n",
       "             ('is', 5),\n",
       "             ('the', 21),\n",
       "             ('straw', 4),\n",
       "             ('hat', 3),\n",
       "             ('center', 4),\n",
       "             ('located', 1),\n",
       "             ('hi', 5),\n",
       "             ('this', 1),\n",
       "             ('pirates', 5),\n",
       "             ('organization', 3),\n",
       "             ('hows', 2),\n",
       "             ('everything', 4),\n",
       "             ('there', 6),\n",
       "             ('hello', 3),\n",
       "             ('a', 2),\n",
       "             ('chatbot', 1),\n",
       "             ('tell', 2),\n",
       "             ('me', 2),\n",
       "             ('about', 3),\n",
       "             ('prerequisites', 3),\n",
       "             ('more', 2),\n",
       "             ('pre', 2),\n",
       "             ('requisites', 2),\n",
       "             ('byr', 1),\n",
       "             ('bro', 2),\n",
       "             ('any', 1),\n",
       "             ('here', 1),\n",
       "             ('can', 3),\n",
       "             ('i', 12),\n",
       "             ('find', 2),\n",
       "             ('strawhat', 3),\n",
       "             ('how', 13),\n",
       "             ('to', 13),\n",
       "             ('join', 7),\n",
       "             ('bye', 4),\n",
       "             ('brother', 1),\n",
       "             ('what', 8),\n",
       "             ('call', 2),\n",
       "             ('nice', 2),\n",
       "             ('meet', 2),\n",
       "             ('thank', 1),\n",
       "             ('adios', 1),\n",
       "             ('address', 1),\n",
       "             ('hey', 2),\n",
       "             ('knock', 2),\n",
       "             ('job', 1),\n",
       "             ('requirements', 3),\n",
       "             ('give', 1),\n",
       "             ('details', 1),\n",
       "             ('currently', 2),\n",
       "             ('at', 1),\n",
       "             ('going', 3),\n",
       "             ('on', 3),\n",
       "             ('okay', 4),\n",
       "             ('centers', 1),\n",
       "             ('location', 2),\n",
       "             ('am', 1),\n",
       "             ('fine', 2),\n",
       "             ('steps', 2),\n",
       "             ('will', 5),\n",
       "             ('catch', 2),\n",
       "             ('later', 7),\n",
       "             ('of', 1),\n",
       "             ('thanks', 2),\n",
       "             ('bot', 1),\n",
       "             ('your', 2),\n",
       "             ('name', 2),\n",
       "             ('talk', 2),\n",
       "             ('text', 1),\n",
       "             ('for', 1),\n",
       "             ('info', 1),\n",
       "             ('things', 1),\n",
       "             ('get', 3),\n",
       "             ('recruited', 3),\n",
       "             ('strawhats', 1),\n",
       "             ('whats', 1),\n",
       "             ('basic', 2),\n",
       "             ('who', 1),\n",
       "             ('anyone', 1),\n",
       "             ('goodbye', 1),\n",
       "             ('hats', 1),\n",
       "             ('see', 2),\n",
       "             ('up', 1),\n",
       "             ('skills', 1),\n",
       "             ('ill', 1),\n",
       "             ('enroll', 1),\n",
       "             ('country', 1)])"
      ]
     },
     "execution_count": 17,
     "metadata": {},
     "output_type": "execute_result"
    }
   ],
   "source": [
    "tokenizer.word_counts # once the fit_on_text method complete then we could see the words how many time present "
   ]
  },
  {
   "cell_type": "code",
   "execution_count": 18,
   "id": "9eac2522",
   "metadata": {},
   "outputs": [],
   "source": [
    "train=tokenizer.texts_to_sequences(data['Inputs']) # see once the texts_to_sequences fucntion that automatically conver corpus vector to inte"
   ]
  },
  {
   "cell_type": "code",
   "execution_count": 19,
   "id": "61513266",
   "metadata": {},
   "outputs": [
    {
     "data": {
      "text/plain": [
       "[[36, 63, 8, 1, 17, 37],\n",
       " [1, 3, 18, 7],\n",
       " [7, 13, 2, 19, 24, 20, 64],\n",
       " [14, 13, 65, 13, 2, 15, 25],\n",
       " [38, 21, 12],\n",
       " [26, 15],\n",
       " [3, 1, 39, 66],\n",
       " [40, 41, 27, 2, 28],\n",
       " [40, 41, 42, 27, 2, 43, 44],\n",
       " [67, 45],\n",
       " [68, 15, 69],\n",
       " [7, 29, 6, 46, 2, 30, 20],\n",
       " [4, 5, 10, 2, 25],\n",
       " [22, 70],\n",
       " [4, 5, 10],\n",
       " [4, 3, 1],\n",
       " [9, 29, 6, 47, 1],\n",
       " [14, 48, 5, 49, 1],\n",
       " [71, 1],\n",
       " [72],\n",
       " [7, 8, 1, 17, 37],\n",
       " [26, 12],\n",
       " [4, 8, 6, 73, 1],\n",
       " [9, 3, 2, 43, 44],\n",
       " [50],\n",
       " [7, 29, 6, 46, 2, 30, 20],\n",
       " [51, 51],\n",
       " [9, 3, 2, 74, 31],\n",
       " [75, 42, 76, 27, 2, 28],\n",
       " [7, 3, 1, 52, 77],\n",
       " [21, 32, 33, 23],\n",
       " [30, 78, 53],\n",
       " [6, 79, 54, 4, 3, 1],\n",
       " [55, 5, 10, 2, 25],\n",
       " [6, 16, 56, 1, 11],\n",
       " [53, 80, 2, 19, 24, 20],\n",
       " [13, 21, 23],\n",
       " [57],\n",
       " [50, 12],\n",
       " [9, 3, 2, 28],\n",
       " [4, 8, 6, 47, 1],\n",
       " [14],\n",
       " [7, 8, 1, 17],\n",
       " [3, 1, 39, 81],\n",
       " [7, 3, 1],\n",
       " [14, 12],\n",
       " [9, 13, 58, 59],\n",
       " [9, 3, 2, 31],\n",
       " [14, 12],\n",
       " [6, 16, 60, 5, 1, 11],\n",
       " [16, 82, 1, 11],\n",
       " [57, 83, 2, 84],\n",
       " [7, 3, 1, 18],\n",
       " [9, 3, 1],\n",
       " [4, 3, 85, 32, 33],\n",
       " [4, 8, 6, 34, 35],\n",
       " [26],\n",
       " [48, 5, 49, 1],\n",
       " [1, 3, 18],\n",
       " [4, 5, 10, 2, 19, 24, 15],\n",
       " [22],\n",
       " [4, 5, 10, 2, 86],\n",
       " [87, 2, 61, 31],\n",
       " [7, 8, 1, 17, 52],\n",
       " [88, 3, 1],\n",
       " [58, 59],\n",
       " [89, 12],\n",
       " [90],\n",
       " [4, 8, 6, 10, 2, 19, 91],\n",
       " [23, 6, 16, 62, 1, 11],\n",
       " [62, 1, 11],\n",
       " [6, 16, 56, 92, 11],\n",
       " [38, 21, 32, 33],\n",
       " [55, 5, 10, 2, 15],\n",
       " [9, 3, 2, 61, 93, 5, 34, 35],\n",
       " [4, 5, 34, 35],\n",
       " [22, 45, 94, 60, 5, 1, 11],\n",
       " [3, 1, 54],\n",
       " [4, 5, 95],\n",
       " [36, 96, 3, 1, 18],\n",
       " [23, 22]]"
      ]
     },
     "execution_count": 19,
     "metadata": {},
     "output_type": "execute_result"
    }
   ],
   "source": [
    "train"
   ]
  },
  {
   "cell_type": "markdown",
   "id": "bb37d090",
   "metadata": {},
   "source": [
    "## Once tokenize done then we need  to perform apply padding"
   ]
  },
  {
   "cell_type": "markdown",
   "id": "0f7495e6",
   "metadata": {},
   "source": [
    "###  pad sequences in keras are smaller than num_timesteps, which was padded with the value until it was long\n",
    "\n",
    "**When using the pad sequence in Keras, we need to use multiple parameters, the most important of which are padding and truncating. The keras pad sequences utility was used to preprocess the sequential data. Keras pad sequences are used to convert sample sequences to 2D numpy arrays."
   ]
  },
  {
   "cell_type": "code",
   "execution_count": 20,
   "id": "eb5d5016",
   "metadata": {},
   "outputs": [],
   "source": [
    "from tensorflow.keras.preprocessing.sequence import pad_sequences\n",
    "x_train=pad_sequences(train)"
   ]
  },
  {
   "cell_type": "markdown",
   "id": "6da3f16a",
   "metadata": {},
   "source": [
    "## Encoding the output"
   ]
  },
  {
   "cell_type": "markdown",
   "id": "b3716eff",
   "metadata": {},
   "source": [
    "### Example Of Label Encoding\n",
    "Suppose we have a column Height in some dataset that has elements as Tall, Medium, and short. To convert this categorical column into a numerical column we will apply label encoding to this column. After applying label encoding, the Height column is converted into a numerical column having elements 0,1, and 2 where 0 is the label for tall, 1 is the label for medium, and 2 is the label for short height.\n",
    "\n",
    "Height\tHeight\n",
    "Tall\t0\n",
    "Medium\t1\n",
    "Short\t2\n",
    "\n",
    "** Here is the botdata Tag element it has 8 items to we will apply for the labelencoding method to convert the catagorical \n",
    "column to numerical columns\n",
    "\n",
    "URL : https://www.geeksforgeeks.org/ml-label-encoding-of-datasets-in-python/"
   ]
  },
  {
   "cell_type": "code",
   "execution_count": 21,
   "id": "62e76e52",
   "metadata": {},
   "outputs": [
    {
     "data": {
      "text/plain": [
       "array(['whereareyou', 'whereisthecenter', 'greeting', 'howami',\n",
       "       'whoareyou', 'prerequisites', 'goodbye', 'join'], dtype=object)"
      ]
     },
     "execution_count": 21,
     "metadata": {},
     "output_type": "execute_result"
    }
   ],
   "source": [
    "data['tags'].unique() # the tags columns it has some element"
   ]
  },
  {
   "cell_type": "code",
   "execution_count": 22,
   "id": "73775142",
   "metadata": {},
   "outputs": [],
   "source": [
    "from sklearn.preprocessing import LabelEncoder\n",
    "labelencoder=LabelEncoder()\n",
    "y_train=labelencoder.fit_transform(data['tags'])\n"
   ]
  },
  {
   "cell_type": "code",
   "execution_count": 269,
   "id": "4733357a",
   "metadata": {},
   "outputs": [
    {
     "data": {
      "text/plain": [
       "array([5, 5, 6, 1, 2, 1, 7, 4, 4, 0, 1, 6, 3, 0, 3, 2, 7, 1, 0, 0, 5, 1,\n",
       "       7, 4, 1, 6, 1, 4, 4, 5, 2, 6, 2, 3, 0, 6, 2, 0, 1, 4, 7, 1, 5, 7,\n",
       "       5, 1, 7, 4, 1, 0, 0, 0, 5, 7, 2, 3, 1, 1, 5, 3, 0, 3, 4, 5, 7, 7,\n",
       "       1, 0, 3, 0, 0, 0, 2, 3, 4, 3, 0, 2, 3, 5, 0])"
      ]
     },
     "execution_count": 269,
     "metadata": {},
     "output_type": "execute_result"
    }
   ],
   "source": [
    "y_train"
   ]
  },
  {
   "cell_type": "markdown",
   "id": "3b553fdf",
   "metadata": {},
   "source": [
    "### |Tensorflow's tokenizer assigns a unique token to each distinct word. and padding is done to get all the data to the same length so as to send it to an rnn layer"
   ]
  },
  {
   "cell_type": "code",
   "execution_count": 23,
   "id": "1b5e2418",
   "metadata": {},
   "outputs": [
    {
     "data": {
      "text/plain": [
       "8"
      ]
     },
     "execution_count": 23,
     "metadata": {},
     "output_type": "execute_result"
    }
   ],
   "source": [
    "input_seq_shape=x_train.shape[1]\n",
    "input_seq_shape"
   ]
  },
  {
   "cell_type": "code",
   "execution_count": 25,
   "id": "18a530bc",
   "metadata": {},
   "outputs": [
    {
     "name": "stdout",
     "output_type": "stream",
     "text": [
      "unique vocabulary: 96\n",
      "Output lenght: 8\n"
     ]
    }
   ],
   "source": [
    "vocabulary=len(tokenizer.word_index)\n",
    "print('unique vocabulary:',vocabulary)\n",
    "output_len=labelencoder.classes_.shape[0] # which dataset tags len\n",
    "print('Output lenght:',output_len) "
   ]
  },
  {
   "cell_type": "markdown",
   "id": "3bdef685",
   "metadata": {},
   "source": [
    "## Neural Network"
   ]
  },
  {
   "cell_type": "markdown",
   "id": "b28f72d2",
   "metadata": {},
   "source": [
    "* ** Theoretically, every hidden layer can represent an embedding layer. We can extract an output of any hidden layers and treat it as an embedding vector. Still, the point is not only to lower the input dimension but also to create a meaningful relationship between them.\n",
    "\n",
    "That is why particular types of neural networks are used only to generate embeddings.\n",
    "\n",
    "URL: https://www.baeldung.com/cs/neural-nets-embedding-layers\n"
   ]
  },
  {
   "cell_type": "code",
   "execution_count": 26,
   "id": "96e77162",
   "metadata": {},
   "outputs": [],
   "source": [
    "i=Input(shape=(input_seq_shape,)) # create by input_layer\n",
    "x=Embedding(vocabulary+1,10)(i)\n",
    "x=LSTM(10,return_sequences=True)(x)  # (LSTM networks are an extension of recurrent neural networks (RNNs) ) \n",
    "x=Flatten()(x)\n",
    "x=Dense(output_len,activation='softmax')(x)\n",
    "model=Model(i,x)"
   ]
  },
  {
   "cell_type": "markdown",
   "id": "aa31b1d5",
   "metadata": {},
   "source": [
    "### below we will compiling our model \n",
    " "
   ]
  },
  {
   "cell_type": "code",
   "execution_count": 27,
   "id": "51d1617b",
   "metadata": {},
   "outputs": [],
   "source": [
    "from tensorflow.keras.optimizers import Adam\n",
    "from tensorflow.keras.losses import sparse_categorical_crossentropy\n",
    "from tensorflow.keras.metrics import Accuracy                      \n"
   ]
  },
  {
   "cell_type": "markdown",
   "id": "5ebc27dd",
   "metadata": {},
   "source": [
    "### Above Lib and all we dont need but incase if any error throws then import above lib \n",
    "#### Error-Type: model fit/ TypeError: 'NoneType' object is not callable"
   ]
  },
  {
   "cell_type": "code",
   "execution_count": 28,
   "id": "1c6a4802",
   "metadata": {},
   "outputs": [],
   "source": [
    "model.compile(loss='sparse_categorical_crossentropy',optimizer='adam',metrics=['accuracy'])"
   ]
  },
  {
   "cell_type": "code",
   "execution_count": 123,
   "id": "1b5fd75c",
   "metadata": {},
   "outputs": [],
   "source": [
    "#model.compile(loss='sparse_categorical_crossentropy',optimizer='adam',metrics=['accuracy'])"
   ]
  },
  {
   "cell_type": "markdown",
   "id": "a7290e3a",
   "metadata": {},
   "source": [
    "### now below we will train our model"
   ]
  },
  {
   "cell_type": "code",
   "execution_count": 29,
   "id": "12df067e",
   "metadata": {},
   "outputs": [
    {
     "name": "stdout",
     "output_type": "stream",
     "text": [
      "Epoch 1/200\n",
      "3/3 [==============================] - 3s 10ms/step - loss: 2.0807 - accuracy: 0.0864\n",
      "Epoch 2/200\n",
      "3/3 [==============================] - 0s 7ms/step - loss: 2.0768 - accuracy: 0.1481\n",
      "Epoch 3/200\n",
      "3/3 [==============================] - 0s 9ms/step - loss: 2.0739 - accuracy: 0.1605\n",
      "Epoch 4/200\n",
      "3/3 [==============================] - 0s 8ms/step - loss: 2.0706 - accuracy: 0.2346\n",
      "Epoch 5/200\n",
      "3/3 [==============================] - 0s 8ms/step - loss: 2.0673 - accuracy: 0.2346\n",
      "Epoch 6/200\n",
      "3/3 [==============================] - 0s 8ms/step - loss: 2.0635 - accuracy: 0.2469\n",
      "Epoch 7/200\n",
      "3/3 [==============================] - 0s 8ms/step - loss: 2.0601 - accuracy: 0.2469\n",
      "Epoch 8/200\n",
      "3/3 [==============================] - 0s 6ms/step - loss: 2.0558 - accuracy: 0.2469\n",
      "Epoch 9/200\n",
      "3/3 [==============================] - 0s 8ms/step - loss: 2.0517 - accuracy: 0.2469\n",
      "Epoch 10/200\n",
      "3/3 [==============================] - 0s 7ms/step - loss: 2.0468 - accuracy: 0.2469\n",
      "Epoch 11/200\n",
      "3/3 [==============================] - 0s 7ms/step - loss: 2.0415 - accuracy: 0.2469\n",
      "Epoch 12/200\n",
      "3/3 [==============================] - 0s 8ms/step - loss: 2.0355 - accuracy: 0.2469\n",
      "Epoch 13/200\n",
      "3/3 [==============================] - 0s 7ms/step - loss: 2.0286 - accuracy: 0.2469\n",
      "Epoch 14/200\n",
      "3/3 [==============================] - 0s 8ms/step - loss: 2.0213 - accuracy: 0.2469\n",
      "Epoch 15/200\n",
      "3/3 [==============================] - 0s 7ms/step - loss: 2.0151 - accuracy: 0.2469\n",
      "Epoch 16/200\n",
      "3/3 [==============================] - 0s 8ms/step - loss: 2.0042 - accuracy: 0.2469\n",
      "Epoch 17/200\n",
      "3/3 [==============================] - 0s 10ms/step - loss: 1.9967 - accuracy: 0.2469\n",
      "Epoch 18/200\n",
      "3/3 [==============================] - 0s 8ms/step - loss: 1.9870 - accuracy: 0.2469\n",
      "Epoch 19/200\n",
      "3/3 [==============================] - 0s 8ms/step - loss: 1.9767 - accuracy: 0.2469\n",
      "Epoch 20/200\n",
      "3/3 [==============================] - 0s 8ms/step - loss: 1.9657 - accuracy: 0.2469\n",
      "Epoch 21/200\n",
      "3/3 [==============================] - 0s 9ms/step - loss: 1.9564 - accuracy: 0.2469\n",
      "Epoch 22/200\n",
      "3/3 [==============================] - 0s 9ms/step - loss: 1.9446 - accuracy: 0.2469\n",
      "Epoch 23/200\n",
      "3/3 [==============================] - 0s 11ms/step - loss: 1.9346 - accuracy: 0.2469\n",
      "Epoch 24/200\n",
      "3/3 [==============================] - 0s 10ms/step - loss: 1.9222 - accuracy: 0.2469\n",
      "Epoch 25/200\n",
      "3/3 [==============================] - 0s 11ms/step - loss: 1.9108 - accuracy: 0.2469\n",
      "Epoch 26/200\n",
      "3/3 [==============================] - 0s 10ms/step - loss: 1.8989 - accuracy: 0.2716\n",
      "Epoch 27/200\n",
      "3/3 [==============================] - 0s 10ms/step - loss: 1.8856 - accuracy: 0.2716\n",
      "Epoch 28/200\n",
      "3/3 [==============================] - 0s 11ms/step - loss: 1.8721 - accuracy: 0.3086\n",
      "Epoch 29/200\n",
      "3/3 [==============================] - 0s 9ms/step - loss: 1.8582 - accuracy: 0.3210\n",
      "Epoch 30/200\n",
      "3/3 [==============================] - 0s 10ms/step - loss: 1.8424 - accuracy: 0.3457\n",
      "Epoch 31/200\n",
      "3/3 [==============================] - 0s 9ms/step - loss: 1.8269 - accuracy: 0.3457\n",
      "Epoch 32/200\n",
      "3/3 [==============================] - 0s 9ms/step - loss: 1.8092 - accuracy: 0.3457\n",
      "Epoch 33/200\n",
      "3/3 [==============================] - 0s 9ms/step - loss: 1.7899 - accuracy: 0.3704\n",
      "Epoch 34/200\n",
      "3/3 [==============================] - 0s 9ms/step - loss: 1.7705 - accuracy: 0.3704\n",
      "Epoch 35/200\n",
      "3/3 [==============================] - 0s 9ms/step - loss: 1.7511 - accuracy: 0.3704\n",
      "Epoch 36/200\n",
      "3/3 [==============================] - 0s 10ms/step - loss: 1.7287 - accuracy: 0.4568\n",
      "Epoch 37/200\n",
      "3/3 [==============================] - 0s 9ms/step - loss: 1.7064 - accuracy: 0.4568\n",
      "Epoch 38/200\n",
      "3/3 [==============================] - 0s 9ms/step - loss: 1.6837 - accuracy: 0.4568\n",
      "Epoch 39/200\n",
      "3/3 [==============================] - 0s 9ms/step - loss: 1.6583 - accuracy: 0.4568\n",
      "Epoch 40/200\n",
      "3/3 [==============================] - 0s 9ms/step - loss: 1.6341 - accuracy: 0.4691\n",
      "Epoch 41/200\n",
      "3/3 [==============================] - 0s 7ms/step - loss: 1.6068 - accuracy: 0.4815\n",
      "Epoch 42/200\n",
      "3/3 [==============================] - 0s 9ms/step - loss: 1.5801 - accuracy: 0.5309\n",
      "Epoch 43/200\n",
      "3/3 [==============================] - 0s 9ms/step - loss: 1.5522 - accuracy: 0.5432\n",
      "Epoch 44/200\n",
      "3/3 [==============================] - 0s 8ms/step - loss: 1.5232 - accuracy: 0.5432\n",
      "Epoch 45/200\n",
      "3/3 [==============================] - 0s 7ms/step - loss: 1.4948 - accuracy: 0.5432\n",
      "Epoch 46/200\n",
      "3/3 [==============================] - 0s 8ms/step - loss: 1.4653 - accuracy: 0.5432\n",
      "Epoch 47/200\n",
      "3/3 [==============================] - 0s 8ms/step - loss: 1.4361 - accuracy: 0.5556\n",
      "Epoch 48/200\n",
      "3/3 [==============================] - 0s 8ms/step - loss: 1.4071 - accuracy: 0.5679\n",
      "Epoch 49/200\n",
      "3/3 [==============================] - 0s 9ms/step - loss: 1.3775 - accuracy: 0.5679\n",
      "Epoch 50/200\n",
      "3/3 [==============================] - 0s 8ms/step - loss: 1.3480 - accuracy: 0.5679\n",
      "Epoch 51/200\n",
      "3/3 [==============================] - 0s 9ms/step - loss: 1.3208 - accuracy: 0.5802\n",
      "Epoch 52/200\n",
      "3/3 [==============================] - 0s 9ms/step - loss: 1.2940 - accuracy: 0.5926\n",
      "Epoch 53/200\n",
      "3/3 [==============================] - 0s 9ms/step - loss: 1.2656 - accuracy: 0.5802\n",
      "Epoch 54/200\n",
      "3/3 [==============================] - 0s 8ms/step - loss: 1.2388 - accuracy: 0.6420\n",
      "Epoch 55/200\n",
      "3/3 [==============================] - 0s 7ms/step - loss: 1.2138 - accuracy: 0.6543\n",
      "Epoch 56/200\n",
      "3/3 [==============================] - 0s 8ms/step - loss: 1.1883 - accuracy: 0.6420\n",
      "Epoch 57/200\n",
      "3/3 [==============================] - 0s 6ms/step - loss: 1.1636 - accuracy: 0.6543\n",
      "Epoch 58/200\n",
      "3/3 [==============================] - 0s 8ms/step - loss: 1.1388 - accuracy: 0.6914\n",
      "Epoch 59/200\n",
      "3/3 [==============================] - 0s 7ms/step - loss: 1.1161 - accuracy: 0.6914\n",
      "Epoch 60/200\n",
      "3/3 [==============================] - 0s 7ms/step - loss: 1.0929 - accuracy: 0.6914\n",
      "Epoch 61/200\n",
      "3/3 [==============================] - 0s 7ms/step - loss: 1.0700 - accuracy: 0.7160\n",
      "Epoch 62/200\n",
      "3/3 [==============================] - 0s 8ms/step - loss: 1.0471 - accuracy: 0.7407\n",
      "Epoch 63/200\n",
      "3/3 [==============================] - 0s 6ms/step - loss: 1.0248 - accuracy: 0.7531\n",
      "Epoch 64/200\n",
      "3/3 [==============================] - 0s 6ms/step - loss: 1.0042 - accuracy: 0.7778\n",
      "Epoch 65/200\n",
      "3/3 [==============================] - 0s 6ms/step - loss: 0.9837 - accuracy: 0.7531\n",
      "Epoch 66/200\n",
      "3/3 [==============================] - 0s 6ms/step - loss: 0.9624 - accuracy: 0.7407\n",
      "Epoch 67/200\n",
      "3/3 [==============================] - 0s 7ms/step - loss: 0.9414 - accuracy: 0.7778\n",
      "Epoch 68/200\n",
      "3/3 [==============================] - 0s 7ms/step - loss: 0.9199 - accuracy: 0.7778\n",
      "Epoch 69/200\n",
      "3/3 [==============================] - 0s 6ms/step - loss: 0.9014 - accuracy: 0.8025\n",
      "Epoch 70/200\n",
      "3/3 [==============================] - 0s 6ms/step - loss: 0.8823 - accuracy: 0.8025\n",
      "Epoch 71/200\n",
      "3/3 [==============================] - 0s 5ms/step - loss: 0.8625 - accuracy: 0.7901\n",
      "Epoch 72/200\n",
      "3/3 [==============================] - 0s 7ms/step - loss: 0.8448 - accuracy: 0.7901\n",
      "Epoch 73/200\n",
      "3/3 [==============================] - 0s 6ms/step - loss: 0.8271 - accuracy: 0.7901\n",
      "Epoch 74/200\n",
      "3/3 [==============================] - 0s 6ms/step - loss: 0.8081 - accuracy: 0.8025\n",
      "Epoch 75/200\n",
      "3/3 [==============================] - 0s 6ms/step - loss: 0.7909 - accuracy: 0.8148\n",
      "Epoch 76/200\n",
      "3/3 [==============================] - 0s 8ms/step - loss: 0.7765 - accuracy: 0.8272\n",
      "Epoch 77/200\n",
      "3/3 [==============================] - 0s 6ms/step - loss: 0.7568 - accuracy: 0.8272\n",
      "Epoch 78/200\n",
      "3/3 [==============================] - 0s 7ms/step - loss: 0.7402 - accuracy: 0.8519\n",
      "Epoch 79/200\n",
      "3/3 [==============================] - 0s 7ms/step - loss: 0.7249 - accuracy: 0.8642\n",
      "Epoch 80/200\n",
      "3/3 [==============================] - 0s 7ms/step - loss: 0.7088 - accuracy: 0.8642\n",
      "Epoch 81/200\n",
      "3/3 [==============================] - 0s 7ms/step - loss: 0.6941 - accuracy: 0.8642\n",
      "Epoch 82/200\n",
      "3/3 [==============================] - 0s 7ms/step - loss: 0.6780 - accuracy: 0.8765\n",
      "Epoch 83/200\n",
      "3/3 [==============================] - 0s 7ms/step - loss: 0.6635 - accuracy: 0.8889\n",
      "Epoch 84/200\n",
      "3/3 [==============================] - 0s 7ms/step - loss: 0.6503 - accuracy: 0.9012\n",
      "Epoch 85/200\n",
      "3/3 [==============================] - 0s 8ms/step - loss: 0.6357 - accuracy: 0.9012\n",
      "Epoch 86/200\n",
      "3/3 [==============================] - 0s 7ms/step - loss: 0.6220 - accuracy: 0.9012\n",
      "Epoch 87/200\n",
      "3/3 [==============================] - 0s 9ms/step - loss: 0.6079 - accuracy: 0.9136\n",
      "Epoch 88/200\n",
      "3/3 [==============================] - 0s 7ms/step - loss: 0.5947 - accuracy: 0.9136\n",
      "Epoch 89/200\n",
      "3/3 [==============================] - 0s 7ms/step - loss: 0.5850 - accuracy: 0.9012\n",
      "Epoch 90/200\n",
      "3/3 [==============================] - 0s 7ms/step - loss: 0.5693 - accuracy: 0.9259\n",
      "Epoch 91/200\n",
      "3/3 [==============================] - 0s 7ms/step - loss: 0.5581 - accuracy: 0.9136\n",
      "Epoch 92/200\n",
      "3/3 [==============================] - 0s 7ms/step - loss: 0.5484 - accuracy: 0.9136\n",
      "Epoch 93/200\n",
      "3/3 [==============================] - 0s 7ms/step - loss: 0.5347 - accuracy: 0.9136\n",
      "Epoch 94/200\n",
      "3/3 [==============================] - 0s 7ms/step - loss: 0.5235 - accuracy: 0.9259\n",
      "Epoch 95/200\n",
      "3/3 [==============================] - 0s 5ms/step - loss: 0.5125 - accuracy: 0.9259\n",
      "Epoch 96/200\n",
      "3/3 [==============================] - 0s 7ms/step - loss: 0.5030 - accuracy: 0.9259\n",
      "Epoch 97/200\n",
      "3/3 [==============================] - 0s 6ms/step - loss: 0.4904 - accuracy: 0.9259\n",
      "Epoch 98/200\n",
      "3/3 [==============================] - 0s 8ms/step - loss: 0.4795 - accuracy: 0.9259\n",
      "Epoch 99/200\n",
      "3/3 [==============================] - 0s 7ms/step - loss: 0.4714 - accuracy: 0.9259\n",
      "Epoch 100/200\n",
      "3/3 [==============================] - 0s 8ms/step - loss: 0.4616 - accuracy: 0.9259\n",
      "Epoch 101/200\n",
      "3/3 [==============================] - 0s 7ms/step - loss: 0.4507 - accuracy: 0.9259\n",
      "Epoch 102/200\n",
      "3/3 [==============================] - 0s 8ms/step - loss: 0.4443 - accuracy: 0.9259\n",
      "Epoch 103/200\n",
      "3/3 [==============================] - 0s 6ms/step - loss: 0.4327 - accuracy: 0.9259\n",
      "Epoch 104/200\n",
      "3/3 [==============================] - 0s 6ms/step - loss: 0.4251 - accuracy: 0.9259\n",
      "Epoch 105/200\n",
      "3/3 [==============================] - 0s 6ms/step - loss: 0.4157 - accuracy: 0.9259\n",
      "Epoch 106/200\n",
      "3/3 [==============================] - 0s 6ms/step - loss: 0.4074 - accuracy: 0.9259\n",
      "Epoch 107/200\n",
      "3/3 [==============================] - 0s 6ms/step - loss: 0.4009 - accuracy: 0.9136\n",
      "Epoch 108/200\n",
      "3/3 [==============================] - 0s 7ms/step - loss: 0.3912 - accuracy: 0.9136\n",
      "Epoch 109/200\n",
      "3/3 [==============================] - 0s 6ms/step - loss: 0.3838 - accuracy: 0.9136\n",
      "Epoch 110/200\n",
      "3/3 [==============================] - 0s 7ms/step - loss: 0.3762 - accuracy: 0.9136\n",
      "Epoch 111/200\n",
      "3/3 [==============================] - 0s 6ms/step - loss: 0.3682 - accuracy: 0.9136\n",
      "Epoch 112/200\n",
      "3/3 [==============================] - 0s 6ms/step - loss: 0.3616 - accuracy: 0.9136\n",
      "Epoch 113/200\n",
      "3/3 [==============================] - 0s 7ms/step - loss: 0.3559 - accuracy: 0.9136\n",
      "Epoch 114/200\n",
      "3/3 [==============================] - 0s 7ms/step - loss: 0.3476 - accuracy: 0.9136\n",
      "Epoch 115/200\n",
      "3/3 [==============================] - 0s 7ms/step - loss: 0.3413 - accuracy: 0.9136\n",
      "Epoch 116/200\n",
      "3/3 [==============================] - 0s 7ms/step - loss: 0.3340 - accuracy: 0.9136\n",
      "Epoch 117/200\n",
      "3/3 [==============================] - 0s 7ms/step - loss: 0.3284 - accuracy: 0.9136\n",
      "Epoch 118/200\n",
      "3/3 [==============================] - 0s 7ms/step - loss: 0.3219 - accuracy: 0.9136\n",
      "Epoch 119/200\n",
      "3/3 [==============================] - 0s 7ms/step - loss: 0.3161 - accuracy: 0.9136\n",
      "Epoch 120/200\n",
      "3/3 [==============================] - 0s 7ms/step - loss: 0.3122 - accuracy: 0.9136\n",
      "Epoch 121/200\n",
      "3/3 [==============================] - 0s 7ms/step - loss: 0.3046 - accuracy: 0.9136\n",
      "Epoch 122/200\n",
      "3/3 [==============================] - 0s 6ms/step - loss: 0.2984 - accuracy: 0.9259\n",
      "Epoch 123/200\n",
      "3/3 [==============================] - 0s 7ms/step - loss: 0.2945 - accuracy: 0.9259\n",
      "Epoch 124/200\n",
      "3/3 [==============================] - 0s 8ms/step - loss: 0.2893 - accuracy: 0.9259\n",
      "Epoch 125/200\n",
      "3/3 [==============================] - 0s 5ms/step - loss: 0.2852 - accuracy: 0.9259\n",
      "Epoch 126/200\n",
      "3/3 [==============================] - 0s 7ms/step - loss: 0.2795 - accuracy: 0.9259\n",
      "Epoch 127/200\n",
      "3/3 [==============================] - 0s 7ms/step - loss: 0.2737 - accuracy: 0.9259\n",
      "Epoch 128/200\n",
      "3/3 [==============================] - 0s 8ms/step - loss: 0.2672 - accuracy: 0.9259\n",
      "Epoch 129/200\n",
      "3/3 [==============================] - 0s 7ms/step - loss: 0.2618 - accuracy: 0.9630\n",
      "Epoch 130/200\n",
      "3/3 [==============================] - 0s 8ms/step - loss: 0.2574 - accuracy: 0.9506\n",
      "Epoch 131/200\n",
      "3/3 [==============================] - 0s 7ms/step - loss: 0.2533 - accuracy: 0.9383\n",
      "Epoch 132/200\n",
      "3/3 [==============================] - 0s 9ms/step - loss: 0.2497 - accuracy: 0.9506\n",
      "Epoch 133/200\n",
      "3/3 [==============================] - 0s 8ms/step - loss: 0.2452 - accuracy: 0.9383\n",
      "Epoch 134/200\n",
      "3/3 [==============================] - 0s 7ms/step - loss: 0.2400 - accuracy: 0.9630\n",
      "Epoch 135/200\n",
      "3/3 [==============================] - 0s 8ms/step - loss: 0.2355 - accuracy: 0.9630\n",
      "Epoch 136/200\n",
      "3/3 [==============================] - 0s 7ms/step - loss: 0.2316 - accuracy: 0.9630\n",
      "Epoch 137/200\n",
      "3/3 [==============================] - 0s 7ms/step - loss: 0.2310 - accuracy: 0.9630\n",
      "Epoch 138/200\n",
      "3/3 [==============================] - 0s 9ms/step - loss: 0.2251 - accuracy: 0.9630\n",
      "Epoch 139/200\n",
      "3/3 [==============================] - 0s 7ms/step - loss: 0.2181 - accuracy: 0.9753\n",
      "Epoch 140/200\n",
      "3/3 [==============================] - 0s 8ms/step - loss: 0.2177 - accuracy: 0.9753\n",
      "Epoch 141/200\n",
      "3/3 [==============================] - 0s 8ms/step - loss: 0.2123 - accuracy: 0.9753\n",
      "Epoch 142/200\n",
      "3/3 [==============================] - 0s 10ms/step - loss: 0.2079 - accuracy: 0.9753\n",
      "Epoch 143/200\n",
      "3/3 [==============================] - 0s 7ms/step - loss: 0.2063 - accuracy: 0.9753\n",
      "Epoch 144/200\n",
      "3/3 [==============================] - 0s 8ms/step - loss: 0.2030 - accuracy: 0.9753\n",
      "Epoch 145/200\n",
      "3/3 [==============================] - 0s 9ms/step - loss: 0.1989 - accuracy: 0.9753\n",
      "Epoch 146/200\n",
      "3/3 [==============================] - 0s 7ms/step - loss: 0.1951 - accuracy: 0.9753\n",
      "Epoch 147/200\n",
      "3/3 [==============================] - 0s 8ms/step - loss: 0.1913 - accuracy: 0.9753\n",
      "Epoch 148/200\n",
      "3/3 [==============================] - 0s 7ms/step - loss: 0.1895 - accuracy: 0.9753\n",
      "Epoch 149/200\n",
      "3/3 [==============================] - 0s 8ms/step - loss: 0.1853 - accuracy: 0.9753\n",
      "Epoch 150/200\n",
      "3/3 [==============================] - 0s 6ms/step - loss: 0.1842 - accuracy: 0.9753\n",
      "Epoch 151/200\n",
      "3/3 [==============================] - 0s 8ms/step - loss: 0.1804 - accuracy: 0.9753\n",
      "Epoch 152/200\n",
      "3/3 [==============================] - 0s 8ms/step - loss: 0.1763 - accuracy: 0.9753\n",
      "Epoch 153/200\n",
      "3/3 [==============================] - 0s 7ms/step - loss: 0.1762 - accuracy: 0.9753\n",
      "Epoch 154/200\n",
      "3/3 [==============================] - 0s 9ms/step - loss: 0.1724 - accuracy: 0.9753\n",
      "Epoch 155/200\n",
      "3/3 [==============================] - 0s 8ms/step - loss: 0.1685 - accuracy: 0.9753\n",
      "Epoch 156/200\n",
      "3/3 [==============================] - 0s 8ms/step - loss: 0.1686 - accuracy: 0.9753\n",
      "Epoch 157/200\n",
      "3/3 [==============================] - 0s 7ms/step - loss: 0.1638 - accuracy: 0.9753\n",
      "Epoch 158/200\n",
      "3/3 [==============================] - 0s 7ms/step - loss: 0.1630 - accuracy: 0.9753\n",
      "Epoch 159/200\n",
      "3/3 [==============================] - 0s 7ms/step - loss: 0.1608 - accuracy: 0.9877\n",
      "Epoch 160/200\n",
      "3/3 [==============================] - 0s 6ms/step - loss: 0.1565 - accuracy: 0.9877\n",
      "Epoch 161/200\n",
      "3/3 [==============================] - 0s 10ms/step - loss: 0.1582 - accuracy: 0.9877\n",
      "Epoch 162/200\n",
      "3/3 [==============================] - 0s 8ms/step - loss: 0.1519 - accuracy: 0.9877\n",
      "Epoch 163/200\n",
      "3/3 [==============================] - 0s 7ms/step - loss: 0.1512 - accuracy: 0.9877\n",
      "Epoch 164/200\n",
      "3/3 [==============================] - 0s 5ms/step - loss: 0.1503 - accuracy: 0.9877\n",
      "Epoch 165/200\n",
      "3/3 [==============================] - 0s 7ms/step - loss: 0.1460 - accuracy: 0.9877\n",
      "Epoch 166/200\n",
      "3/3 [==============================] - 0s 7ms/step - loss: 0.1454 - accuracy: 0.9877\n",
      "Epoch 167/200\n"
     ]
    },
    {
     "name": "stdout",
     "output_type": "stream",
     "text": [
      "3/3 [==============================] - 0s 6ms/step - loss: 0.1421 - accuracy: 0.9877\n",
      "Epoch 168/200\n",
      "3/3 [==============================] - 0s 3ms/step - loss: 0.1394 - accuracy: 0.9877\n",
      "Epoch 169/200\n",
      "3/3 [==============================] - 0s 7ms/step - loss: 0.1383 - accuracy: 0.9877\n",
      "Epoch 170/200\n",
      "3/3 [==============================] - 0s 6ms/step - loss: 0.1367 - accuracy: 0.9877\n",
      "Epoch 171/200\n",
      "3/3 [==============================] - 0s 6ms/step - loss: 0.1333 - accuracy: 0.9877\n",
      "Epoch 172/200\n",
      "3/3 [==============================] - 0s 5ms/step - loss: 0.1314 - accuracy: 0.9877\n",
      "Epoch 173/200\n",
      "3/3 [==============================] - 0s 7ms/step - loss: 0.1296 - accuracy: 0.9877\n",
      "Epoch 174/200\n",
      "3/3 [==============================] - 0s 6ms/step - loss: 0.1291 - accuracy: 0.9877\n",
      "Epoch 175/200\n",
      "3/3 [==============================] - 0s 7ms/step - loss: 0.1261 - accuracy: 0.9877\n",
      "Epoch 176/200\n",
      "3/3 [==============================] - 0s 7ms/step - loss: 0.1261 - accuracy: 0.9877\n",
      "Epoch 177/200\n",
      "3/3 [==============================] - 0s 6ms/step - loss: 0.1226 - accuracy: 0.9877\n",
      "Epoch 178/200\n",
      "3/3 [==============================] - 0s 3ms/step - loss: 0.1223 - accuracy: 0.9877\n",
      "Epoch 179/200\n",
      "3/3 [==============================] - 0s 5ms/step - loss: 0.1198 - accuracy: 0.9877\n",
      "Epoch 180/200\n",
      "3/3 [==============================] - 0s 6ms/step - loss: 0.1176 - accuracy: 0.9877\n",
      "Epoch 181/200\n",
      "3/3 [==============================] - 0s 7ms/step - loss: 0.1175 - accuracy: 0.9877\n",
      "Epoch 182/200\n",
      "3/3 [==============================] - 0s 3ms/step - loss: 0.1147 - accuracy: 0.9877\n",
      "Epoch 183/200\n",
      "3/3 [==============================] - 0s 6ms/step - loss: 0.1138 - accuracy: 0.9877\n",
      "Epoch 184/200\n",
      "3/3 [==============================] - 0s 7ms/step - loss: 0.1121 - accuracy: 0.9877\n",
      "Epoch 185/200\n",
      "3/3 [==============================] - 0s 6ms/step - loss: 0.1101 - accuracy: 0.9877\n",
      "Epoch 186/200\n",
      "3/3 [==============================] - 0s 6ms/step - loss: 0.1101 - accuracy: 0.9877\n",
      "Epoch 187/200\n",
      "3/3 [==============================] - 0s 8ms/step - loss: 0.1081 - accuracy: 0.9877\n",
      "Epoch 188/200\n",
      "3/3 [==============================] - 0s 8ms/step - loss: 0.1074 - accuracy: 0.9877\n",
      "Epoch 189/200\n",
      "3/3 [==============================] - 0s 7ms/step - loss: 0.1051 - accuracy: 0.9877\n",
      "Epoch 190/200\n",
      "3/3 [==============================] - 0s 5ms/step - loss: 0.1036 - accuracy: 0.9877\n",
      "Epoch 191/200\n",
      "3/3 [==============================] - 0s 7ms/step - loss: 0.1041 - accuracy: 0.9877\n",
      "Epoch 192/200\n",
      "3/3 [==============================] - 0s 7ms/step - loss: 0.1026 - accuracy: 0.9877\n",
      "Epoch 193/200\n",
      "3/3 [==============================] - 0s 7ms/step - loss: 0.0997 - accuracy: 0.9877\n",
      "Epoch 194/200\n",
      "3/3 [==============================] - 0s 6ms/step - loss: 0.0986 - accuracy: 0.9877\n",
      "Epoch 195/200\n",
      "3/3 [==============================] - 0s 6ms/step - loss: 0.0971 - accuracy: 0.9877\n",
      "Epoch 196/200\n",
      "3/3 [==============================] - 0s 6ms/step - loss: 0.0965 - accuracy: 0.9877\n",
      "Epoch 197/200\n",
      "3/3 [==============================] - 0s 6ms/step - loss: 0.0951 - accuracy: 0.9877\n",
      "Epoch 198/200\n",
      "3/3 [==============================] - 0s 5ms/step - loss: 0.0938 - accuracy: 0.9877\n",
      "Epoch 199/200\n",
      "3/3 [==============================] - 0s 5ms/step - loss: 0.0926 - accuracy: 0.9877\n",
      "Epoch 200/200\n",
      "3/3 [==============================] - 0s 7ms/step - loss: 0.0918 - accuracy: 0.9877\n"
     ]
    }
   ],
   "source": [
    "train=model.fit(x_train,y_train,epochs=200)\n"
   ]
  },
  {
   "cell_type": "markdown",
   "id": "4100ab14",
   "metadata": {},
   "source": [
    "## Model analysis\n",
    "\n",
    "#### create the plot for loss and accuracy so you can see the difference of loss"
   ]
  },
  {
   "cell_type": "code",
   "execution_count": 30,
   "id": "ad04a50f",
   "metadata": {},
   "outputs": [
    {
     "data": {
      "text/plain": [
       "<matplotlib.legend.Legend at 0x26d9652dc90>"
      ]
     },
     "execution_count": 30,
     "metadata": {},
     "output_type": "execute_result"
    },
    {
     "data": {
      "image/png": "[encoded data removed]",
      "text/plain": [
       "<Figure size 640x480 with 1 Axes>"
      ]
     },
     "metadata": {},
     "output_type": "display_data"
    }
   ],
   "source": [
    "plt.plot(train.history['accuracy'],label=\"accuracy\")\n",
    "plt.plot(train.history['loss'],label='trainin_loss')\n",
    "plt.legend()\n",
    "#plt.plot(train.history['accuracy'])"
   ]
  },
  {
   "cell_type": "markdown",
   "id": "82c3f90a",
   "metadata": {},
   "source": [
    "# Tesing\n",
    "\n",
    "#### this was very simple bot and very small amount of data but the same model also can be used with  large amount of data"
   ]
  },
  {
   "cell_type": "code",
   "execution_count": 31,
   "id": "47b11de3",
   "metadata": {},
   "outputs": [],
   "source": [
    "import random"
   ]
  },
  {
   "cell_type": "code",
   "execution_count": 270,
   "id": "3966e29a",
   "metadata": {},
   "outputs": [
    {
     "data": {
      "text/plain": [
       "0"
      ]
     },
     "execution_count": 270,
     "metadata": {},
     "output_type": "execute_result"
    }
   ],
   "source": [
    "output"
   ]
  },
  {
   "cell_type": "code",
   "execution_count": 271,
   "id": "8c53f776",
   "metadata": {},
   "outputs": [
    {
     "name": "stdout",
     "output_type": "stream",
     "text": [
      "User-Kp: i am fine\n",
      "1/1 [==============================] - 0s 33ms/step\n",
      "Bot-KP:  Goodbye\n",
      "User-Kp: Hi\n",
      "1/1 [==============================] - 0s 10ms/step\n",
      "Bot-KP:  welcome aboard, how may I help you ?\n",
      "User-Kp: how are you\n",
      "1/1 [==============================] - 0s 23ms/step\n",
      "Bot-KP:  Doing good.Thanks you are my best friend\n",
      "User-Kp: are you fine\n",
      "1/1 [==============================] - 0s 19ms/step\n",
      "Bot-KP:  I am Going Merry and you could ask me questions about our organization\n",
      "User-Kp: what about you\n",
      "1/1 [==============================] - 0s 21ms/step\n",
      "Bot-KP:  My name is Going Merry and yes, I am the G.O.A.T\n",
      "User-Kp: how to get recruited ?\n",
      "1/1 [==============================] - 0s 17ms/step\n",
      "Bot-KP:  well. there are some pre-requisite and after you complete them, find the straw hat centers\n",
      "User-Kp: where can I find the strawhat center ?\n",
      "1/1 [==============================] - 0s 21ms/step\n",
      "Bot-KP:  there are a lot of straw hat centers in the city you are in. find them.\n"
     ]
    },
    {
     "ename": "KeyboardInterrupt",
     "evalue": "Interrupted by user",
     "output_type": "error",
     "traceback": [
      "\u001b[1;31m---------------------------------------------------------------------------\u001b[0m",
      "\u001b[1;31mKeyboardInterrupt\u001b[0m                         Traceback (most recent call last)",
      "Cell \u001b[1;32mIn[271], line 3\u001b[0m\n\u001b[0;32m      1\u001b[0m \u001b[38;5;28;01mwhile\u001b[39;00m \u001b[38;5;28;01mTrue\u001b[39;00m:\n\u001b[0;32m      2\u001b[0m     text_p\u001b[38;5;241m=\u001b[39m[]\n\u001b[1;32m----> 3\u001b[0m     prediction_input\u001b[38;5;241m=\u001b[39m\u001b[38;5;28;43minput\u001b[39;49m\u001b[43m(\u001b[49m\u001b[38;5;124;43m'\u001b[39;49m\u001b[38;5;124;43mUser-Kp: \u001b[39;49m\u001b[38;5;124;43m'\u001b[39;49m\u001b[43m)\u001b[49m\n\u001b[0;32m      4\u001b[0m     \u001b[38;5;66;03m#here user if gave any punctuation to remove that and convert lowercase pass the bot\u001b[39;00m\n\u001b[0;32m      5\u001b[0m     prediction_input\u001b[38;5;241m=\u001b[39m[ltr\u001b[38;5;241m.\u001b[39mlower() \u001b[38;5;28;01mfor\u001b[39;00m ltr \u001b[38;5;129;01min\u001b[39;00m prediction_input \u001b[38;5;28;01mif\u001b[39;00m ltr \u001b[38;5;129;01mnot\u001b[39;00m \u001b[38;5;129;01min\u001b[39;00m string\u001b[38;5;241m.\u001b[39mpunctuation]\n",
      "File \u001b[1;32m~\\AppData\\Local\\anaconda3\\lib\\site-packages\\ipykernel\\kernelbase.py:1175\u001b[0m, in \u001b[0;36mKernel.raw_input\u001b[1;34m(self, prompt)\u001b[0m\n\u001b[0;32m   1171\u001b[0m \u001b[38;5;28;01mif\u001b[39;00m \u001b[38;5;129;01mnot\u001b[39;00m \u001b[38;5;28mself\u001b[39m\u001b[38;5;241m.\u001b[39m_allow_stdin:\n\u001b[0;32m   1172\u001b[0m     \u001b[38;5;28;01mraise\u001b[39;00m StdinNotImplementedError(\n\u001b[0;32m   1173\u001b[0m         \u001b[38;5;124m\"\u001b[39m\u001b[38;5;124mraw_input was called, but this frontend does not support input requests.\u001b[39m\u001b[38;5;124m\"\u001b[39m\n\u001b[0;32m   1174\u001b[0m     )\n\u001b[1;32m-> 1175\u001b[0m \u001b[38;5;28;01mreturn\u001b[39;00m \u001b[38;5;28;43mself\u001b[39;49m\u001b[38;5;241;43m.\u001b[39;49m\u001b[43m_input_request\u001b[49m\u001b[43m(\u001b[49m\n\u001b[0;32m   1176\u001b[0m \u001b[43m    \u001b[49m\u001b[38;5;28;43mstr\u001b[39;49m\u001b[43m(\u001b[49m\u001b[43mprompt\u001b[49m\u001b[43m)\u001b[49m\u001b[43m,\u001b[49m\n\u001b[0;32m   1177\u001b[0m \u001b[43m    \u001b[49m\u001b[38;5;28;43mself\u001b[39;49m\u001b[38;5;241;43m.\u001b[39;49m\u001b[43m_parent_ident\u001b[49m\u001b[43m[\u001b[49m\u001b[38;5;124;43m\"\u001b[39;49m\u001b[38;5;124;43mshell\u001b[39;49m\u001b[38;5;124;43m\"\u001b[39;49m\u001b[43m]\u001b[49m\u001b[43m,\u001b[49m\n\u001b[0;32m   1178\u001b[0m \u001b[43m    \u001b[49m\u001b[38;5;28;43mself\u001b[39;49m\u001b[38;5;241;43m.\u001b[39;49m\u001b[43mget_parent\u001b[49m\u001b[43m(\u001b[49m\u001b[38;5;124;43m\"\u001b[39;49m\u001b[38;5;124;43mshell\u001b[39;49m\u001b[38;5;124;43m\"\u001b[39;49m\u001b[43m)\u001b[49m\u001b[43m,\u001b[49m\n\u001b[0;32m   1179\u001b[0m \u001b[43m    \u001b[49m\u001b[43mpassword\u001b[49m\u001b[38;5;241;43m=\u001b[39;49m\u001b[38;5;28;43;01mFalse\u001b[39;49;00m\u001b[43m,\u001b[49m\n\u001b[0;32m   1180\u001b[0m \u001b[43m\u001b[49m\u001b[43m)\u001b[49m\n",
      "File \u001b[1;32m~\\AppData\\Local\\anaconda3\\lib\\site-packages\\ipykernel\\kernelbase.py:1217\u001b[0m, in \u001b[0;36mKernel._input_request\u001b[1;34m(self, prompt, ident, parent, password)\u001b[0m\n\u001b[0;32m   1214\u001b[0m             \u001b[38;5;28;01mbreak\u001b[39;00m\n\u001b[0;32m   1215\u001b[0m \u001b[38;5;28;01mexcept\u001b[39;00m \u001b[38;5;167;01mKeyboardInterrupt\u001b[39;00m:\n\u001b[0;32m   1216\u001b[0m     \u001b[38;5;66;03m# re-raise KeyboardInterrupt, to truncate traceback\u001b[39;00m\n\u001b[1;32m-> 1217\u001b[0m     \u001b[38;5;28;01mraise\u001b[39;00m \u001b[38;5;167;01mKeyboardInterrupt\u001b[39;00m(\u001b[38;5;124m\"\u001b[39m\u001b[38;5;124mInterrupted by user\u001b[39m\u001b[38;5;124m\"\u001b[39m) \u001b[38;5;28;01mfrom\u001b[39;00m \u001b[38;5;28mNone\u001b[39m\n\u001b[0;32m   1218\u001b[0m \u001b[38;5;28;01mexcept\u001b[39;00m \u001b[38;5;167;01mException\u001b[39;00m:\n\u001b[0;32m   1219\u001b[0m     \u001b[38;5;28mself\u001b[39m\u001b[38;5;241m.\u001b[39mlog\u001b[38;5;241m.\u001b[39mwarning(\u001b[38;5;124m\"\u001b[39m\u001b[38;5;124mInvalid Message:\u001b[39m\u001b[38;5;124m\"\u001b[39m, exc_info\u001b[38;5;241m=\u001b[39m\u001b[38;5;28;01mTrue\u001b[39;00m)\n",
      "\u001b[1;31mKeyboardInterrupt\u001b[0m: Interrupted by user"
     ]
    }
   ],
   "source": [
    "while True:\n",
    "    text_p=[]\n",
    "    prediction_input=input('User-Kp: ')\n",
    "    #here user if gave any punctuation to remove that and convert lowercase pass the bot\n",
    "    prediction_input=[ltr.lower() for ltr in prediction_input if ltr not in string.punctuation]\n",
    "    prediction_input=''.join(prediction_input)\n",
    "    \n",
    "    # after remove punctuation and join them to append one list\n",
    "    text_p.append(prediction_input)\n",
    "    \n",
    "    #then we will perform tokenizing and padding\n",
    "    prediction_input=tokenizer.texts_to_sequences(text_p)\n",
    "    prediction_input=np.array(prediction_input).reshape(-1)\n",
    "    prediction_input=pad_sequences([prediction_input],input_seq_shape)\n",
    "    \n",
    "    #getting output from model\n",
    "    output=model.predict(prediction_input)\n",
    "    output=output.argmax()\n",
    "    \n",
    "    #finding the right tag and prediting\n",
    "    response_tag=labelencoder.inverse_transform([output])[0]\n",
    "    print('Bot-KP: ',random.choice(response[response_tag]))\n",
    "    \n",
    "    if response=='goodbye':\n",
    "        break"
   ]
  },
  {
   "cell_type": "code",
   "execution_count": null,
   "id": "5e167705",
   "metadata": {},
   "outputs": [],
   "source": []
  }
 ],
 "metadata": {
  "kernelspec": {
   "display_name": "Python 3 (ipykernel)",
   "language": "python",
   "name": "python3"
  },
  "language_info": {
   "codemirror_mode": {
    "name": "ipython",
    "version": 3
   },
   "file_extension": ".py",
   "mimetype": "text/x-python",
   "name": "python",
   "nbconvert_exporter": "python",
   "pygments_lexer": "ipython3",
   "version": "3.10.9"
  }
 },
 "nbformat": 4,
 "nbformat_minor": 5
}
